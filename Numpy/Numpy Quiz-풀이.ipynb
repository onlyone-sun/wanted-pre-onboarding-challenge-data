{
 "cells": [
  {
   "cell_type": "code",
   "execution_count": 2,
   "id": "8cc97446-f160-470f-9bcd-7037eb4d9c35",
   "metadata": {},
   "outputs": [],
   "source": [
    "import numpy as np"
   ]
  },
  {
   "cell_type": "markdown",
   "id": "62741dec-8ddc-4a21-8759-c55f038513d4",
   "metadata": {},
   "source": [
    "## 1. 값이 10~49인 numpy array를 만드세요"
   ]
  },
  {
   "cell_type": "code",
   "execution_count": 35,
   "id": "24e45782-38e6-4f76-9301-cc0ac2904814",
   "metadata": {},
   "outputs": [
    {
     "name": "stdout",
     "output_type": "stream",
     "text": [
      "[10 11 12 13 14 15 16 17 18 19 20 21 22 23 24 25 26 27 28 29 30 31 32 33\n",
      " 34 35 36 37 38 39 40 41 42 43 44 45 46 47 48 49]\n"
     ]
    }
   ],
   "source": [
    "z = np.arange(10, 50)\n",
    "print(z)"
   ]
  },
  {
   "cell_type": "markdown",
   "id": "9ae6b827-b32c-4417-826f-ad38b38ef0ca",
   "metadata": {},
   "source": [
    "## 2. z를 반전하세요."
   ]
  },
  {
   "cell_type": "code",
   "execution_count": 36,
   "id": "bcccc466-f421-4730-a5dd-1aa65ada9f86",
   "metadata": {},
   "outputs": [
    {
     "name": "stdout",
     "output_type": "stream",
     "text": [
      "[49 48 47 46 45 44 43 42 41 40 39 38 37 36 35 34 33 32 31 30 29 28 27 26\n",
      " 25 24 23 22 21 20 19 18 17 16 15 14 13 12 11 10]\n"
     ]
    }
   ],
   "source": [
    "z = np.flip(z)\n",
    "print(z)"
   ]
  },
  {
   "cell_type": "markdown",
   "id": "800f093d-f3b6-4d1f-9d02-d79553c8cdc7",
   "metadata": {},
   "source": [
    "## 3. 반전시킨 z 매트릭스를 10 x 4 매트릭스로 바꾸세요."
   ]
  },
  {
   "cell_type": "code",
   "execution_count": 13,
   "id": "47a0c22a-ef59-4056-a54c-c96b014654e1",
   "metadata": {},
   "outputs": [
    {
     "name": "stdout",
     "output_type": "stream",
     "text": [
      "[[49 48 47 46]\n",
      " [45 44 43 42]\n",
      " [41 40 39 38]\n",
      " [37 36 35 34]\n",
      " [33 32 31 30]\n",
      " [29 28 27 26]\n",
      " [25 24 23 22]\n",
      " [21 20 19 18]\n",
      " [17 16 15 14]\n",
      " [13 12 11 10]]\n"
     ]
    }
   ],
   "source": [
    "z = z.reshape(10, 4)\n",
    "print(z)"
   ]
  },
  {
   "cell_type": "markdown",
   "id": "9340d10c-efcc-40f1-8f5b-8b268875db83",
   "metadata": {},
   "source": [
    "## 4. x에서 0이 아닌 요소의 색인을 찾아보세요."
   ]
  },
  {
   "cell_type": "code",
   "execution_count": 14,
   "id": "bdbe6e8f-c36e-4c8a-9d7d-afb3b8625115",
   "metadata": {},
   "outputs": [
    {
     "name": "stdout",
     "output_type": "stream",
     "text": [
      "(array([0, 1, 2, 4, 6], dtype=int64),)\n"
     ]
    }
   ],
   "source": [
    "x = np.array([5,6,8,0,1,0,7])\n",
    "nz_idx = np.where(x != 0)\n",
    "print(nz_idx)"
   ]
  },
  {
   "cell_type": "markdown",
   "id": "6ef0e1b4-7b4e-47ff-9aff-b68be3b6a84e",
   "metadata": {},
   "source": [
    "## nan 값 이해하기"
   ]
  },
  {
   "cell_type": "code",
   "execution_count": 15,
   "id": "d2c54030-80c3-4152-94ef-02c8e75d05d4",
   "metadata": {},
   "outputs": [
    {
     "name": "stdout",
     "output_type": "stream",
     "text": [
      "False\n",
      "True\n",
      "False\n",
      "True\n"
     ]
    }
   ],
   "source": [
    "print(np.nan == np.nan)\n",
    "print(np.isnan(np.nan))\n",
    "\n",
    "import math\n",
    "print(0.3 == 3 * 0.1)\n",
    "print(math.isclose(0.1 + 0.2, 0.3))"
   ]
  },
  {
   "cell_type": "markdown",
   "id": "870d1288-9139-4632-8bbb-a57b527e327b",
   "metadata": {},
   "source": [
    "## 5. 12 x 12 매트릭스를 만들어 바둑판 패턴으로 0과 1을 채우세요"
   ]
  },
  {
   "cell_type": "code",
   "execution_count": 43,
   "id": "1e1d4afb-ae7a-47ca-9b01-84a5fd5c07ef",
   "metadata": {},
   "outputs": [
    {
     "name": "stdout",
     "output_type": "stream",
     "text": [
      "12\n"
     ]
    }
   ],
   "source": [
    "x = np.zeros((12, 12))\n",
    "print(len(x))"
   ]
  },
  {
   "cell_type": "code",
   "execution_count": 45,
   "id": "31ec124e-bbc8-4ed9-90f8-3274cd4481f3",
   "metadata": {},
   "outputs": [
    {
     "name": "stdout",
     "output_type": "stream",
     "text": [
      "[[0. 0. 0. 0. 0. 0. 0. 0. 0. 0. 0. 0.]\n",
      " [0. 0. 0. 0. 0. 0. 0. 0. 0. 0. 0. 0.]\n",
      " [0. 0. 0. 0. 0. 0. 0. 0. 0. 0. 0. 0.]\n",
      " [0. 0. 0. 0. 0. 0. 0. 0. 0. 0. 0. 0.]\n",
      " [0. 0. 0. 0. 0. 0. 0. 0. 0. 0. 0. 0.]\n",
      " [0. 0. 0. 0. 0. 0. 0. 0. 0. 0. 0. 0.]\n",
      " [0. 0. 0. 0. 0. 0. 0. 0. 0. 0. 0. 0.]\n",
      " [0. 0. 0. 0. 0. 0. 0. 0. 0. 0. 0. 0.]\n",
      " [0. 0. 0. 0. 0. 0. 0. 0. 0. 0. 0. 0.]\n",
      " [0. 0. 0. 0. 0. 0. 0. 0. 0. 0. 0. 0.]\n",
      " [0. 0. 0. 0. 0. 0. 0. 0. 0. 0. 0. 0.]\n",
      " [0. 0. 0. 0. 0. 0. 0. 0. 0. 0. 0. 0.]]\n",
      "\n",
      "[[0. 1. 0. 1. 0. 1. 0. 1. 0. 1. 0. 1.]\n",
      " [1. 0. 1. 0. 1. 0. 1. 0. 1. 0. 1. 0.]\n",
      " [0. 1. 0. 1. 0. 1. 0. 1. 0. 1. 0. 1.]\n",
      " [1. 0. 1. 0. 1. 0. 1. 0. 1. 0. 1. 0.]\n",
      " [0. 1. 0. 1. 0. 1. 0. 1. 0. 1. 0. 1.]\n",
      " [1. 0. 1. 0. 1. 0. 1. 0. 1. 0. 1. 0.]\n",
      " [0. 1. 0. 1. 0. 1. 0. 1. 0. 1. 0. 1.]\n",
      " [1. 0. 1. 0. 1. 0. 1. 0. 1. 0. 1. 0.]\n",
      " [0. 1. 0. 1. 0. 1. 0. 1. 0. 1. 0. 1.]\n",
      " [1. 0. 1. 0. 1. 0. 1. 0. 1. 0. 1. 0.]\n",
      " [0. 1. 0. 1. 0. 1. 0. 1. 0. 1. 0. 1.]\n",
      " [1. 0. 1. 0. 1. 0. 1. 0. 1. 0. 1. 0.]]\n"
     ]
    }
   ],
   "source": [
    "x = np.zeros((12, 12))\n",
    "print(x, end='\\n\\n')\n",
    "###############\n",
    "# 슬라이싱을 사용하세요\n",
    "for i in range(0, len(x)):\n",
    "    if i%2 == 0: \n",
    "        x[i:i+1, 1::2] = 1\n",
    "    if i%2 == 1:\n",
    "        x[i:i+1, ::2] = 1\n",
    "###############\n",
    "print(x)"
   ]
  },
  {
   "cell_type": "markdown",
   "id": "8131942b-647e-474b-bc55-cd4856effba9",
   "metadata": {},
   "source": [
    "## 6. np.tile 을 이용해서 동일한 바둑판 패턴을 만들어보세요"
   ]
  },
  {
   "cell_type": "code",
   "execution_count": 63,
   "id": "68875a24-75f9-4d8c-96b8-842792600f4e",
   "metadata": {},
   "outputs": [
    {
     "name": "stdout",
     "output_type": "stream",
     "text": [
      "[[0 1 0 1 0 1 0 1 0 1 0 1]\n",
      " [1 0 1 0 1 0 1 0 1 0 1 0]\n",
      " [0 1 0 1 0 1 0 1 0 1 0 1]\n",
      " [1 0 1 0 1 0 1 0 1 0 1 0]\n",
      " [0 1 0 1 0 1 0 1 0 1 0 1]\n",
      " [1 0 1 0 1 0 1 0 1 0 1 0]\n",
      " [0 1 0 1 0 1 0 1 0 1 0 1]\n",
      " [1 0 1 0 1 0 1 0 1 0 1 0]\n",
      " [0 1 0 1 0 1 0 1 0 1 0 1]\n",
      " [1 0 1 0 1 0 1 0 1 0 1 0]\n",
      " [0 1 0 1 0 1 0 1 0 1 0 1]\n",
      " [1 0 1 0 1 0 1 0 1 0 1 0]]\n"
     ]
    }
   ],
   "source": [
    "p = np.array([[0,1], [1,0]])\n",
    "x = np.tile(p, [6,6])\n",
    "print(x)"
   ]
  },
  {
   "cell_type": "markdown",
   "id": "f0c6424f-34f3-43a3-94ee-1a9109521fa8",
   "metadata": {},
   "source": [
    "## 7. 1차원 배열이 x에서 값이 5~10인 요소를 0으로 바꾸세요"
   ]
  },
  {
   "cell_type": "code",
   "execution_count": 64,
   "id": "06065ead-0759-4a7c-a6e3-cbb97f910757",
   "metadata": {},
   "outputs": [
    {
     "name": "stdout",
     "output_type": "stream",
     "text": [
      "[ 2  5  3  8  3 34 23  7 10]\n",
      "[ 2  0  3  0  3 34 23  0  0]\n"
     ]
    }
   ],
   "source": [
    "x = np.array([2,5,3,8,3,34,23,7,10])\n",
    "print(x)\n",
    "##################\n",
    "# 필터링을 사용하세요.\n",
    "x[(x>=5) & (x<=10)] = 0\n",
    "\n",
    "##################\n",
    "print(x)"
   ]
  },
  {
   "cell_type": "markdown",
   "id": "028dbf81-2046-45fa-b1f9-143e49c8c04e",
   "metadata": {},
   "source": [
    "## 8. 0에서 100 사이의 값으로 크기가 10인 1차원 array를 만드세요"
   ]
  },
  {
   "cell_type": "code",
   "execution_count": 65,
   "id": "8d2f1b8c-91b1-49e8-865f-c0ef08b51f7c",
   "metadata": {},
   "outputs": [
    {
     "name": "stdout",
     "output_type": "stream",
     "text": [
      "[  0.          11.11111111  22.22222222  33.33333333  44.44444444\n",
      "  55.55555556  66.66666667  77.77777778  88.88888889 100.        ]\n"
     ]
    }
   ],
   "source": [
    "x = np.linspace(0,100,10)\n",
    "print(x)"
   ]
  },
  {
   "cell_type": "markdown",
   "id": "b8044ee9-dbc8-490c-aaa7-1656b79d69c8",
   "metadata": {},
   "source": [
    "## 9. np.allclose() 함수를 사용하여 2개의 array가 같은지를 확인해보세요"
   ]
  },
  {
   "cell_type": "code",
   "execution_count": 66,
   "id": "72faa78e-1cb7-4c11-b686-c53d25e17eab",
   "metadata": {},
   "outputs": [
    {
     "name": "stdout",
     "output_type": "stream",
     "text": [
      "True\n"
     ]
    }
   ],
   "source": [
    "A = np.array([1e10,1e-8])\n",
    "B = np.array([1.00001e10,1e-9])\n",
    "\n",
    "equal = np.allclose(A, B)\n",
    "print(equal)"
   ]
  },
  {
   "cell_type": "markdown",
   "id": "2d71d9f0-4dc1-4acf-8fac-24b268120fce",
   "metadata": {},
   "source": [
    "## 10. 데카르트 좌표를 나타내는 랜덤 8 x 2 행렬을 고려하여 극좌표로 변환해보세요."
   ]
  },
  {
   "cell_type": "code",
   "execution_count": 82,
   "id": "0e0d0719-3144-4403-98d3-0e197bde7006",
   "metadata": {},
   "outputs": [
    {
     "name": "stdout",
     "output_type": "stream",
     "text": [
      "[[1.04714358 1.05379683]\n",
      " [0.07044919 1.53900654]\n",
      " [0.21385615 0.25540594]\n",
      " [1.14155543 1.03665906]\n",
      " [0.45257177 0.38372869]\n",
      " [0.86682085 1.33376898]\n",
      " [0.83847266 1.13315604]\n",
      " [0.61738211 0.69442004]\n",
      " [0.24419683 0.68076121]\n",
      " [0.72564295 1.30047494]]\n"
     ]
    }
   ],
   "source": [
    "coord = np.random.random((10,2))\n",
    "\n",
    "x, y = coord[:,0], coord[:,1]\n",
    "\n",
    "r = np.sqrt(x**2+y**2)\n",
    "theta = np.arctan2(y,x)\n",
    "\n",
    "ploar_coord = np.concatenate([r[:,np.newaxis], theta[:,np.newaxis]],axis=1)\n",
    "print(ploar_coord)"
   ]
  },
  {
   "cell_type": "code",
   "execution_count": 67,
   "id": "1a60df02-0e74-4722-bfaf-4caed7d59ae9",
   "metadata": {},
   "outputs": [],
   "source": [
    "coord = np.random.random((10,2))"
   ]
  },
  {
   "cell_type": "code",
   "execution_count": 68,
   "id": "03d7fe59-16e0-4b5e-9599-1de0c28cee90",
   "metadata": {},
   "outputs": [
    {
     "data": {
      "text/plain": [
       "array([[0.42234443, 0.19645666],\n",
       "       [0.07062385, 0.74094028],\n",
       "       [0.89043528, 0.44038064],\n",
       "       [0.89076179, 0.54057745],\n",
       "       [0.36499811, 0.38631646],\n",
       "       [0.82436777, 0.88795435],\n",
       "       [0.18981513, 0.16397069],\n",
       "       [0.0769206 , 0.23989253],\n",
       "       [0.22326398, 0.14496746],\n",
       "       [0.99715565, 0.2063522 ]])"
      ]
     },
     "execution_count": 68,
     "metadata": {},
     "output_type": "execute_result"
    }
   ],
   "source": [
    "coord"
   ]
  },
  {
   "cell_type": "code",
   "execution_count": 69,
   "id": "4f30609b-3ec9-4c8b-9f4e-bf3530274945",
   "metadata": {},
   "outputs": [
    {
     "name": "stdout",
     "output_type": "stream",
     "text": [
      "[0.42234443 0.07062385 0.89043528 0.89076179 0.36499811 0.82436777\n",
      " 0.18981513 0.0769206  0.22326398 0.99715565]\n",
      "\n",
      "[0.19645666 0.74094028 0.44038064 0.54057745 0.38631646 0.88795435\n",
      " 0.16397069 0.23989253 0.14496746 0.2063522 ]\n"
     ]
    }
   ],
   "source": [
    "x, y = coord[:,0], coord[:,1]\n",
    "print(x, end='\\n\\n')\n",
    "print(y)"
   ]
  },
  {
   "cell_type": "code",
   "execution_count": null,
   "id": "cb6dbc02-9ac6-4dac-b6d5-581d668146bc",
   "metadata": {},
   "outputs": [],
   "source": [
    "# z = x + 1j * y \n",
    "# r = np.abs(z)\n",
    "# theta = np.angle(z)"
   ]
  },
  {
   "cell_type": "code",
   "execution_count": null,
   "id": "199d82c9-396b-4761-b4ec-48343c7e9d4c",
   "metadata": {},
   "outputs": [],
   "source": []
  }
 ],
 "metadata": {
  "kernelspec": {
   "display_name": "Python 3",
   "language": "python",
   "name": "python3"
  },
  "language_info": {
   "codemirror_mode": {
    "name": "ipython",
    "version": 3
   },
   "file_extension": ".py",
   "mimetype": "text/x-python",
   "name": "python",
   "nbconvert_exporter": "python",
   "pygments_lexer": "ipython3",
   "version": "3.8.8"
  }
 },
 "nbformat": 4,
 "nbformat_minor": 5
}
